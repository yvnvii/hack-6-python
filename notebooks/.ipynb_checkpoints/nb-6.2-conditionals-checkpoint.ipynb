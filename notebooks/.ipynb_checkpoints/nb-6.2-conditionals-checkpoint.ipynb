{
 "cells": [
  {
   "cell_type": "markdown",
   "metadata": {},
   "source": [
    "## Notebook 6.2: Conditionals\n",
    "\n",
    "This notebook will correspond with content from chapters 3 and 4 in the official Python tutorial https://docs.python.org/3/tutorial/. Please read before completing this notebook. \n",
    "\n",
    "\n",
    "### Learning objectives: \n",
    "\n",
    "By the end of this exercise you should:\n",
    "\n",
    "1. Be able to write conditional Python clauses.\n",
    "2. Become familiar with Python functions. \n",
    "3. Understand the use of tabs in structuring Python code."
   ]
  },
  {
   "cell_type": "markdown",
   "metadata": {},
   "source": [
    "### Serial objects (using 'for' statements)\n",
    "You've now learned about many of the basic Python object types: `int`, `float`, `bool`, `str`, and `list`. Of these, some like the `str` and `list` types  differ in that they are *iterable*. This means that the objects have a built-in structure that allows us to easily look at each of their individual data points in order. \n",
    "\n",
    "The `for` statement in Python can be used to iterate over iterable objects. Here, it creates a new variable in each iteration and assigns it the next value from the iterable object. Below, we use the variable name `element` to store the value in each iteration, but this variable can be named whatever you want. "
   ]
  },
  {
   "cell_type": "code",
   "execution_count": 1,
   "metadata": {},
   "outputs": [
    {
     "name": "stdout",
     "output_type": "stream",
     "text": [
      "l\n",
      "i\n",
      "s\n",
      "t\n",
      "s\n",
      "-\n",
      "a\n",
      "r\n",
      "e\n",
      "-\n",
      "i\n",
      "t\n",
      "e\n",
      "r\n",
      "a\n",
      "b\n",
      "l\n",
      "e\n"
     ]
    }
   ],
   "source": [
    "# create a list (a type of iterable object)\n",
    "mylist = list('lists-are-iterable')\n",
    "\n",
    "# iterate over elements in mylist printing each one\n",
    "for element in mylist:\n",
    "    print(element)"
   ]
  },
  {
   "cell_type": "markdown",
   "metadata": {},
   "source": [
    "### Indentation \n",
    "If you're familiar with other languages like R you may be asking, but where are the curly brackets or other characters to show when the for loop starts and ends? In Python we represent this information using indentation. The indentation of one tab in the line under the `for loop` clause indicates to Python that this line should be repeated in each iteration of the loop. Everything on additional lines below that would also be repeated in each iteration of the loop, until the indentation expands back out."
   ]
  },
  {
   "cell_type": "code",
   "execution_count": 2,
   "metadata": {},
   "outputs": [
    {
     "name": "stdout",
     "output_type": "stream",
     "text": [
      "A\n",
      "A\n",
      "C\n",
      "T\n",
      "C\n",
      "G\n",
      "C\n",
      "T\n",
      "A\n",
      "A\n",
      "A\n",
      "G\n"
     ]
    }
   ],
   "source": [
    "# create a dna string (also iterable)\n",
    "dna = \"AACTCGCTAAAG\"\n",
    "\n",
    "# iterate over the list operating on each element\n",
    "for element in dna:\n",
    "    print(element)"
   ]
  },
  {
   "cell_type": "markdown",
   "metadata": {},
   "source": [
    "### Conditionals\n",
    "When iterating over elements this is a very natural place to insert a conditional statement in order to operate on only a subset of the iterable results. This can be done using `if statements`. Again, indentation is used to show that the line following the `if statement` should only be executed if the statement is True. \n",
    "Example: "
   ]
  },
  {
   "cell_type": "code",
   "execution_count": 3,
   "metadata": {},
   "outputs": [
    {
     "name": "stdout",
     "output_type": "stream",
     "text": [
      "A\n",
      "A\n",
      "A\n",
      "A\n",
      "A\n"
     ]
    }
   ],
   "source": [
    "# create a dna list\n",
    "dna = \"AACTCGCTAAAG\"\n",
    "\n",
    "# iterate over the list operating on each element\n",
    "for element in dna:\n",
    "    \n",
    "    # apply the conditional\n",
    "    if element == \"A\":\n",
    "        \n",
    "        # the code only reaches here if the conditional returned True\n",
    "        print(element)"
   ]
  },
  {
   "cell_type": "markdown",
   "metadata": {},
   "source": [
    "### Indexing with iteration\n",
    "You can select the elements from an iterable by iterating over the element itself, as we did above, or, another useful procedure is to iterate over a range of integers that can be used to *index* elements of the iterable object. Remember that *indexing* and *slicing* are used in Python to select one or more elements from an iterable object (e.g., `dnalist[5:15]`). \n",
    "\n",
    "Below is an example of iterating through an iterable, and iterating through an index.\n",
    "\n"
   ]
  },
  {
   "cell_type": "code",
   "execution_count": 4,
   "metadata": {},
   "outputs": [
    {
     "name": "stdout",
     "output_type": "stream",
     "text": [
      "A\n",
      "A\n",
      "C\n",
      "C\n",
      "T\n",
      "T\n",
      "G\n",
      "G\n"
     ]
    }
   ],
   "source": [
    "# an iterable list\n",
    "dna = \"AACCTTGG\"\n",
    "\n",
    "# iterating through the iterable itself\n",
    "for letter in dna:\n",
    "    print(letter)"
   ]
  },
  {
   "cell_type": "code",
   "execution_count": 5,
   "metadata": {},
   "outputs": [
    {
     "name": "stdout",
     "output_type": "stream",
     "text": [
      "A\n",
      "A\n",
      "C\n",
      "C\n",
      "T\n",
      "T\n"
     ]
    }
   ],
   "source": [
    "# iterating through an list of integers to use as an index\n",
    "for i in [0, 1, 2, 3, 4, 5]:\n",
    "    print(dna[i])"
   ]
  },
  {
   "cell_type": "markdown",
   "metadata": {},
   "source": [
    "### The `range` and `len` functions \n",
    "\n",
    "The sequence object `range` is a special highly efficient operator for iterating over numeric values. It has the form `range(start, stop, step)`, and returns an object that generates numbers on the fly as they are sampled. This makes it highly efficient since if you tell it to generate a billion numbers it doesn't need to generate them ahead of time but instead generates them only as they are needed. `range` is important since it is often used in conjunction with sequence type objects to sample their index. \n",
    "\n",
    "Another useful function that is often used it tandem with `range` is the function `len`, which stands for *length*. It is used to measure the length of an iterable object, meaning it will tell you how many elements are inside of it. One way that these two functions are combined is to ask `range` to return a sequence of integers that is the same length as an iterable object. This will allow you to iterate over the entire index of an iterable object. \n",
    "\n",
    "In the example below we iterate over every element in dna by calling `len(dna)` which returns an integer and wrapping that inside of range which returns a sequence for that entire length. "
   ]
  },
  {
   "cell_type": "code",
   "execution_count": 6,
   "metadata": {},
   "outputs": [
    {
     "data": {
      "text/plain": [
       "8"
      ]
     },
     "execution_count": 6,
     "metadata": {},
     "output_type": "execute_result"
    }
   ],
   "source": [
    "# example calling len() function on dna object\n",
    "len(dna)"
   ]
  },
  {
   "cell_type": "code",
   "execution_count": 7,
   "metadata": {},
   "outputs": [
    {
     "name": "stdout",
     "output_type": "stream",
     "text": [
      "0\n",
      "1\n",
      "2\n",
      "3\n",
      "4\n"
     ]
    }
   ],
   "source": [
    "# example calling the range() function\n",
    "for idx in range(5):\n",
    "    print(idx)"
   ]
  },
  {
   "cell_type": "code",
   "execution_count": 8,
   "metadata": {},
   "outputs": [
    {
     "name": "stdout",
     "output_type": "stream",
     "text": [
      "0 A\n",
      "1 A\n",
      "2 C\n",
      "3 C\n",
      "4 T\n",
      "5 T\n",
      "6 G\n",
      "7 G\n"
     ]
    }
   ],
   "source": [
    "# iterate over the full range of the dna list object\n",
    "for i in range(len(dna)):\n",
    "    print(i, dna[i])"
   ]
  },
  {
   "cell_type": "markdown",
   "metadata": {},
   "source": [
    "<div class=\"alert alert-success\">\n",
    "    <b>Action:</b> Follow the instructions to complete this multipart action to receive full points: (1) Create a new list object called dnalist that is made up of string object composing any number and order of of A, C, T, and Gs. (2) Iterate over the length of dnalist to select each element using indexing. (3) As each indexed value is selected use a conditional argument to select only elements that match the value \"A\". (4) If the value matches \"A\" replace the indexed value with a lowercase version of the letter. (5) print the final modified dnalist object to show that the values have been modified. \n",
    "    \n",
    "Hint: Make sure you create the dnalist variable as a list object and not as a string object because only a list object is mutable (i.e., individual indexed values can be replaced with others). \n",
    "</div>"
   ]
  },
  {
   "cell_type": "code",
   "execution_count": null,
   "metadata": {},
   "outputs": [],
   "source": []
  },
  {
   "cell_type": "markdown",
   "metadata": {},
   "source": [
    "## If / Else clauses\n",
    "A natural progression from making `if` statements is to also add an operation if the statement is False. This can be done using else, or, to write more complex statements, we can also add in `elif` which means else if. "
   ]
  },
  {
   "cell_type": "code",
   "execution_count": 13,
   "metadata": {},
   "outputs": [
    {
     "name": "stdout",
     "output_type": "stream",
     "text": [
      "lower case a a\n",
      "upper case b B\n",
      "some other letter\n",
      "some other letter\n",
      "some other letter\n"
     ]
    }
   ],
   "source": [
    "mylist = ['a', 'b', 'c', 'd', 'e']\n",
    "for letter in mylist:\n",
    "    if letter == 'a':\n",
    "        print('lower case a', letter)\n",
    "    elif letter == 'b':\n",
    "        print('upper case b', letter.upper())\n",
    "    else:\n",
    "        print(\"some other letter\")"
   ]
  },
  {
   "cell_type": "markdown",
   "metadata": {},
   "source": [
    "### Lists as stacks\n",
    "A common use of lists is to store objects that have been passed through some type of filter process. Lists are nice for this because you can start with an empty list and sequentially add objects to it to build it up. Example below. "
   ]
  },
  {
   "cell_type": "code",
   "execution_count": 14,
   "metadata": {},
   "outputs": [
    {
     "name": "stdout",
     "output_type": "stream",
     "text": [
      "['a', 'e', 'i', 'o', 'u']\n"
     ]
    }
   ],
   "source": [
    "vowels = []\n",
    "for item in \"abcdefghijklmnopqrstuvwxyz\":\n",
    "    if item in \"aeiou\":\n",
    "        vowels.append(item)\n",
    "        \n",
    "print(vowels)"
   ]
  },
  {
   "cell_type": "markdown",
   "metadata": {},
   "source": [
    "### List comprehension\n",
    "A more compact way to assign values to a list while iterating over a for-loop or conditional statement is to use a method called *list comprehension*. This is essentially a way of rewriting a multi-line for-loop statement into a single line. The point of list comprehension is to make your code more compact and easier to read. It may look a little funny at first but once you become familiar with the list-comprehension syntax it can actually be very elegant. "
   ]
  },
  {
   "cell_type": "code",
   "execution_count": 15,
   "metadata": {},
   "outputs": [
    {
     "data": {
      "text/plain": [
       "['a', 'e', 'i']"
      ]
     },
     "execution_count": 15,
     "metadata": {},
     "output_type": "execute_result"
    }
   ],
   "source": [
    "vowels = [i for i in \"abcdefghi\" if i in \"aeiou\"]\n",
    "vowels"
   ]
  },
  {
   "cell_type": "markdown",
   "metadata": {},
   "source": [
    "<div class=\"alert alert-success\">\n",
    "    <b>Action:</b> Write code in the cell below to count the number of differences between the variables dna1 and dna2. \n",
    "    \n",
    "Hint, create an integer variable set to 0 and add 1 to it each time you observe a difference between the two strings below. Use the `range` function to perform your iteration and index items from each string for comparison.\n",
    "</div>"
   ]
  },
  {
   "cell_type": "code",
   "execution_count": 5,
   "metadata": {},
   "outputs": [],
   "source": [
    "dna1 = \"AACTCGCTAAAGCCTCGCGGATCGATAAGCTAG\"\n",
    "dna2 = \"AAGTCGCTAAAGCAACGCGGAACGATAACCTGG\""
   ]
  },
  {
   "cell_type": "code",
   "execution_count": 6,
   "metadata": {},
   "outputs": [
    {
     "name": "stdout",
     "output_type": "stream",
     "text": [
      "6\n"
     ]
    }
   ],
   "source": [
    "diff = 0\n",
    "\n",
    "for i in range(len(dna1)):\n",
    "    if dna1[i]!=dna2[i]:\n",
    "        diff +=1\n",
    "print(diff)"
   ]
  },
  {
   "cell_type": "markdown",
   "metadata": {},
   "source": [
    "### Finished\n",
    "\n",
    "Save this notebook and close it. Commit and push changes to your forked repo."
   ]
  }
 ],
 "metadata": {
  "kernelspec": {
   "display_name": "Python 3 (ipykernel)",
   "language": "python",
   "name": "python3"
  },
  "language_info": {
   "codemirror_mode": {
    "name": "ipython",
    "version": 3
   },
   "file_extension": ".py",
   "mimetype": "text/x-python",
   "name": "python",
   "nbconvert_exporter": "python",
   "pygments_lexer": "ipython3",
   "version": "3.12.2"
  }
 },
 "nbformat": 4,
 "nbformat_minor": 4
}
