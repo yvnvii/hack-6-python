{
 "cells": [
  {
   "cell_type": "markdown",
   "metadata": {},
   "source": [
    "# Notebook 6.3: Getting started with functions\n",
    "\n",
    "### What are functions?\n",
    "A function is used to perform a task based on a particular input. Functions are the bread and butter of any programming language. We have used many functions already that are builtin to the objects we have interacted with. For example, we saw that `string` objects have functions to capitalize letters, or add spacing, or query their length. Similarly, `list` objects have functions to search for elements in them, or to sort. The next step in our journey to begin writing our own functions. This is only an introduction, as we will continue over time to learn many new ways to write more and more advanced functions.  "
   ]
  },
  {
   "cell_type": "markdown",
   "metadata": {},
   "source": [
    "### The basic structure of a function\n",
    "In Python functions are defined using the keyword `def`. Optionally we can have the function return a result by ending it with the `return` operator. This is not required, but is usually desirable if we want to want to assign the result of the function to a variable. If no return statement is added the function will return an object called `None`. This is a special variable in Python, like `True` and `False`. "
   ]
  },
  {
   "cell_type": "code",
   "execution_count": 5,
   "metadata": {},
   "outputs": [],
   "source": [
    "# a simple function to add 100\n",
    "def myfunc(x):\n",
    "    return x + 100"
   ]
  },
  {
   "cell_type": "code",
   "execution_count": 6,
   "metadata": {},
   "outputs": [
    {
     "data": {
      "text/plain": [
       "300"
      ]
     },
     "execution_count": 6,
     "metadata": {},
     "output_type": "execute_result"
    }
   ],
   "source": [
    "# let's run our function on an integer\n",
    "myfunc(200)"
   ]
  },
  {
   "cell_type": "markdown",
   "metadata": {},
   "source": [
    "### More structure: doc string\n",
    "So the basic elements are to have an input variable and a return variable. The next important thing is to add some documentation to our function. This reminds us what the function is for, and also allows other users to see how the function works. A documentation string (docstring) is simply a string object put directly into the code like below. It does not affect how the function functions at all."
   ]
  },
  {
   "cell_type": "code",
   "execution_count": 7,
   "metadata": {},
   "outputs": [],
   "source": [
    "def myfunc2(x):\n",
    "    \"This function adds 100 to an int or float and returns\"\n",
    "    return x + 100"
   ]
  },
  {
   "cell_type": "code",
   "execution_count": 8,
   "metadata": {},
   "outputs": [
    {
     "data": {
      "text/plain": [
       "400.3"
      ]
     },
     "execution_count": 8,
     "metadata": {},
     "output_type": "execute_result"
    }
   ],
   "source": [
    "myfunc2(300.3)"
   ]
  },
  {
   "cell_type": "markdown",
   "metadata": {},
   "source": [
    "There is not hard-set rule on how to write your documentation string, but there are suggested conventions. Below is one of them, which starts with a brief summary of what the function does, followed by a list of the input types, and finally a listing of the returned values. When writing short scripts for practice like we are now, however, the short description above is adequate, rather than writing a full length docstring like below. But in the future we will be writing full docs. "
   ]
  },
  {
   "cell_type": "code",
   "execution_count": 9,
   "metadata": {},
   "outputs": [],
   "source": [
    "def myfunc3(x):\n",
    "    \"\"\"\n",
    "    A function that takes a numeric input and adds \n",
    "    100 to it and returns it.\n",
    "    \n",
    "    Parameters:\n",
    "    -----------\n",
    "    x (int, float):\n",
    "        An integer or float input.\n",
    "        \n",
    "    Returns:\n",
    "    ---------\n",
    "    int\n",
    "    \"\"\"\n",
    "    return x + 100"
   ]
  },
  {
   "cell_type": "markdown",
   "metadata": {},
   "source": [
    "### More structure: handling exceptions\n",
    "The next step is to beef up our function a bit. Let's add some conditional statements to it to make sure that users don't misuse the function in a way that we did not intend. For example, this function tries to add an integer to the input, which is fine for an int or float input, but what if the input is some other type, we want our function to raise a warning, or fail gracefully. In fact, it will already do this do this by raising a Python TypeError. But let's catch the error first and warn the user.  "
   ]
  },
  {
   "cell_type": "markdown",
   "metadata": {},
   "source": [
    "There are two general concepts for catching errors in programming, called `EAFP` and `LBYL`. This stands for \"it's easier to ask forgiveness than permission\", and \"look before you leap\". The idea is, you can either write your program to first try to do something and only bother handling exceptions when you get caught with an error, or, alternatively you can write your code to check that everything is properly formatted and no errors will be raise before it tries to execute any code. In general, the `EAFP` (ask forgiveness after getting caught) method is preferable, but both are typically used frequently in any program. "
   ]
  },
  {
   "cell_type": "markdown",
   "metadata": {},
   "source": [
    "#### EAFP\n",
    "Easier to ask forgiveness is a bit faster because when the type is correct we do not waste time checking whether it is correct or not. We only bother if there is an exception raised by the code. We use a statement called a `try/except` statement. The indentation of the code is important in this part, if a TypeError is raised anywhere within the indented `try` section then it will be caught by the `except` clause. We capture and store the exception message into a variable `e` and print it for the user. "
   ]
  },
  {
   "cell_type": "code",
   "execution_count": null,
   "metadata": {},
   "outputs": [],
   "source": [
    "def myfunc4(x):\n",
    "    \"return x + 100\"\n",
    "    try: \n",
    "        return x + 100\n",
    "    except TypeError as e:\n",
    "        print(\"There was an error: {}\".format(e))"
   ]
  },
  {
   "cell_type": "code",
   "execution_count": null,
   "metadata": {},
   "outputs": [],
   "source": [
    "myfunc4('a')"
   ]
  },
  {
   "cell_type": "markdown",
   "metadata": {},
   "source": [
    "In the example above we caught the exception and then did not re-raise it, so it was suppressed. We could alternatively catch it and re-raise it so that the code will stop running at the point of exception. You can see that the only difference of having a try/except clause now is that we get to do something after the exception occurred, and before it is raised. In this case we print a custom message, but it could be something else as well."
   ]
  },
  {
   "cell_type": "code",
   "execution_count": null,
   "metadata": {},
   "outputs": [],
   "source": [
    "def myfunc4raise(x):\n",
    "    \"return x + 100\"\n",
    "    try: \n",
    "        return x + 100\n",
    "    except TypeError as e:\n",
    "        print(\"There was an error: {}\".format(e))\n",
    "        raise"
   ]
  },
  {
   "cell_type": "code",
   "execution_count": null,
   "metadata": {},
   "outputs": [],
   "source": [
    "myfunc4raise('a')"
   ]
  },
  {
   "cell_type": "markdown",
   "metadata": {},
   "source": [
    "#### LBYL\n",
    "Look before you leap checks the type of our input right away, which has the cost of performing one more operation than this EAFP example, but it also ensures for us that know the type of data, and so helps us to avoid errors a bit better. Here we use a conditional `if/else` statement to check the type of the input. In general you should not worry about the time it takes to perform a conditional check, since it is actually very very very fast. I only mention speed as a reason that people might choose between the two approaches."
   ]
  },
  {
   "cell_type": "code",
   "execution_count": 10,
   "metadata": {},
   "outputs": [],
   "source": [
    "def myfunc5(x):\n",
    "    \"return x + 100\"\n",
    "    if isinstance(x, (int, float)):\n",
    "        return x + 100\n",
    "    else:\n",
    "        return \"There was an error: x is not an int or float\"    "
   ]
  },
  {
   "cell_type": "code",
   "execution_count": 11,
   "metadata": {},
   "outputs": [
    {
     "data": {
      "text/plain": [
       "'There was an error: x is not an int or float'"
      ]
     },
     "execution_count": 11,
     "metadata": {},
     "output_type": "execute_result"
    }
   ],
   "source": [
    "myfunc5('a')"
   ]
  },
  {
   "cell_type": "markdown",
   "metadata": {},
   "source": [
    "## Multiple inputs \n",
    "Of course we often want to write functions that take multiple inputs. This is easy. "
   ]
  },
  {
   "cell_type": "code",
   "execution_count": 12,
   "metadata": {},
   "outputs": [],
   "source": [
    "def sumfunc1(arg1, arg2):\n",
    "    \"returns the sum of two input args\"\n",
    "    return arg1 + arg2"
   ]
  },
  {
   "cell_type": "code",
   "execution_count": 13,
   "metadata": {},
   "outputs": [
    {
     "data": {
      "text/plain": [
       "30"
      ]
     },
     "execution_count": 13,
     "metadata": {},
     "output_type": "execute_result"
    }
   ],
   "source": [
    "sumfunc1(10, 20)"
   ]
  },
  {
   "cell_type": "markdown",
   "metadata": {},
   "source": [
    "### Writing a useful function\n",
    "Let's write a function to perform the task that we ran in a previous challenge, which is to find the number of differences between two DNA strings. Here we write a function that will find the n differences between the DNA strings below. Try editing the DNA strings to add changes to make sure that it still works. You can see now that our function is getting more complex that it is useful to add some additional comment lines to the code to make clear what we are doing. This is done using the # comment character."
   ]
  },
  {
   "cell_type": "code",
   "execution_count": 14,
   "metadata": {},
   "outputs": [],
   "source": [
    "def seqdiff1(seq1, seq2):\n",
    "    \"return the number of differences between two sequences\"\n",
    "    # a counter to store the number of diffs\n",
    "    count = 0\n",
    "\n",
    "    # iterate over the index of bases and add to count if diff\n",
    "    for idx in range(len(seq1)):\n",
    "        if seq1[idx] != seq2[idx]:\n",
    "            count += 1\n",
    "    return count"
   ]
  },
  {
   "cell_type": "code",
   "execution_count": 15,
   "metadata": {},
   "outputs": [
    {
     "data": {
      "text/plain": [
       "5"
      ]
     },
     "execution_count": 15,
     "metadata": {},
     "output_type": "execute_result"
    }
   ],
   "source": [
    "dna1 = \"ACAGAGTTGCCAGGAGATGACAGAAAGGTGTGGGTTACAACTCTCTCTAATTTAAGGGCCAATTAACATT\"\n",
    "dna2 = \"ACAGAGTCGCCAGGAGATGACAGAAAGGTCTGGGTTACAACTCTCTCTAAAATAAGGGCCAATTAACGTT\"\n",
    "\n",
    "seqdiff1(dna1, dna2)"
   ]
  },
  {
   "cell_type": "markdown",
   "metadata": {},
   "source": [
    "### What if the sequences are different lengths?\n",
    "Below we add an operation to compute the length of the two sequences and then use `min` to get the shortest one, and we only iterate over the length of the shortest sequence.\n",
    " "
   ]
  },
  {
   "cell_type": "code",
   "execution_count": null,
   "metadata": {},
   "outputs": [],
   "source": [
    "def seqdiff2(seq1, seq2):\n",
    "    \"\"\"\n",
    "    return the number of differences between two sequences,\n",
    "    compares sequences from start to the end of the shortest seq.\n",
    "    \"\"\"\n",
    "    # a counter to store the number of diffs\n",
    "    count = 0\n",
    "    \n",
    "    # get the shortest input sequence length\n",
    "    slen = min([len(i) for i in (seq1, seq2)])\n",
    "    \n",
    "    # iterate over the index of bases and add to count if diff\n",
    "    for idx in range(slen):\n",
    "        if seq1[idx] != seq2[idx]:\n",
    "            count += 1\n",
    "    return count"
   ]
  },
  {
   "cell_type": "code",
   "execution_count": null,
   "metadata": {},
   "outputs": [],
   "source": [
    "dna1 = \"ACAGAGTTGCCAGGAGATGACAGAAAGGTGTGGGTTAC\"\n",
    "dna2 = \"ACAGAGTCGCCAGGAGATGACAGAAAGGTCTGGGTTACAACTCTCTCTA\"\n",
    "\n",
    "seqdiff2(dna1, dna2)"
   ]
  },
  {
   "cell_type": "markdown",
   "metadata": {},
   "source": [
    "## Challenges: \n",
    "\n",
    "<div class=\"alert alert-success\">\n",
    "Write functions and create sequences and test on them. \n",
    "For the challenges below try to write proper functions that include a documentation string and comments. \n",
    "</div>"
   ]
  },
  {
   "cell_type": "markdown",
   "metadata": {},
   "source": [
    "A. Write a function that will generate and return a random sequence of \"A\" \"C\" \"G\" or \"T\"s of length N as a string. Hint, for this use the random package from the standard library."
   ]
  },
  {
   "cell_type": "code",
   "execution_count": 28,
   "metadata": {},
   "outputs": [
    {
     "name": "stdout",
     "output_type": "stream",
     "text": [
      "['G', 'G', 'T', 'G', 'A', 'A', 'T', 'G', 'T', 'G']\n"
     ]
    }
   ],
   "source": [
    "import random\n",
    "def random_dna(length):\n",
    "    # Write your function here\n",
    "    choices = [\"A\",\"C\",\"G\",\"T\"]\n",
    "    seq = random.choices(choices, k = length)\n",
    "    return seq\n",
    "\n",
    "dna = random_dna(10)\n",
    "print(dna)"
   ]
  },
  {
   "cell_type": "markdown",
   "metadata": {},
   "source": [
    "B. Write a function to calculate and return the frequency of As, Cs, Ts and Gs in a sequence string from challenge A. "
   ]
  },
  {
   "cell_type": "code",
   "execution_count": 31,
   "metadata": {},
   "outputs": [
    {
     "name": "stdout",
     "output_type": "stream",
     "text": [
      "{'A': 0.2, 'C': 0.0, 'G': 0.5, 'T': 0.3}\n"
     ]
    }
   ],
   "source": [
    "def get_frequency(dnastring):\n",
    "    # Write your function here\n",
    "    dict = {\"A\": 0, \"C\": 0, \"G\": 0, \"T\": 0}\n",
    "    for residue in dnastring:\n",
    "        for dna in dict:\n",
    "            if residue == dna:\n",
    "                dict[dna] +=1\n",
    "    for dna in dict:\n",
    "        dict[dna] = dict[dna]/len(dnastring)\n",
    "    return dict\n",
    "\n",
    "print(get_frequency(dna))"
   ]
  },
  {
   "cell_type": "markdown",
   "metadata": {},
   "source": [
    "C. Write a function to concatenate (join end-to-end) two sequences and return it"
   ]
  },
  {
   "cell_type": "code",
   "execution_count": 32,
   "metadata": {},
   "outputs": [
    {
     "name": "stdout",
     "output_type": "stream",
     "text": [
      "fsrgrsesefr\n"
     ]
    }
   ],
   "source": [
    "def concat_seqs(dnastring1, dnastring2):\n",
    "    # Write your function here\n",
    "    return dnastring1+dnastring2"
   ]
  },
  {
   "cell_type": "markdown",
   "metadata": {},
   "source": [
    "D. Write a function to take two sequences of different lengths and return both trimmed down to be the same length. "
   ]
  },
  {
   "cell_type": "code",
   "execution_count": 67,
   "metadata": {},
   "outputs": [
    {
     "name": "stdout",
     "output_type": "stream",
     "text": [
      "ABC\n"
     ]
    }
   ],
   "source": [
    "def trim_seqs_equal_len(dnastring1, dnastring2):\n",
    "    # Write your function here\n",
    "    diff = len(dnastring1)-len(dnastring2)\n",
    "    if diff>0:\n",
    "        dnastring1 = dnastring1[:len(dnastring2)]\n",
    "    else:\n",
    "        dnastring2 = dnastring2[:len(dnastring1)]\n",
    "    return dnastring1, dnastring2"
   ]
  },
  {
   "cell_type": "markdown",
   "metadata": {},
   "source": [
    "E. Write a function to return the proportion of bases across the shared length between two sequences that are the same. In this function, use the function that you created in `D` above to convert the sequences to be the same length (even if this is not necessarily the most efficient way to complete this task). So this function should include within it a call of your previous function.\n"
   ]
  },
  {
   "cell_type": "code",
   "execution_count": 72,
   "metadata": {},
   "outputs": [
    {
     "name": "stdout",
     "output_type": "stream",
     "text": [
      "['A', 'C', 'T', 'G', 'G', 'G', 'G', 'A', 'C', 'G', 'T', 'C', 'T', 'C', 'G']\n",
      "['A', 'T', 'C', 'T', 'T', 'G', 'C', 'C', 'C', 'A']\n",
      "0.3\n"
     ]
    }
   ],
   "source": [
    "def get_overlap_freq(seq1, seq2):\n",
    "    # Write your function here\n",
    "    trimmed_seq1, trimmed_seq2 = trim_seqs_equal_len(seq1, seq2)\n",
    "    count =0\n",
    "    for idx in range(len(trimmed_seq1)):\n",
    "        if seq1[idx] == seq2[idx]:\n",
    "            count +=1\n",
    "    return count/len(trimmed_seq1)"
   ]
  },
  {
   "cell_type": "markdown",
   "metadata": {},
   "source": [
    "## Finished\n",
    "Save this notebook and close it. Commit and push changes to your repo."
   ]
  },
  {
   "cell_type": "code",
   "execution_count": null,
   "metadata": {},
   "outputs": [],
   "source": []
  }
 ],
 "metadata": {
  "kernelspec": {
   "display_name": "Python 3 (ipykernel)",
   "language": "python",
   "name": "python3"
  },
  "language_info": {
   "codemirror_mode": {
    "name": "ipython",
    "version": 3
   },
   "file_extension": ".py",
   "mimetype": "text/x-python",
   "name": "python",
   "nbconvert_exporter": "python",
   "pygments_lexer": "ipython3",
   "version": "3.12.2"
  }
 },
 "nbformat": 4,
 "nbformat_minor": 4
}
